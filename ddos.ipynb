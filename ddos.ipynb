{
 "cells": [
  {
   "cell_type": "code",
   "execution_count": 1,
   "metadata": {},
   "outputs": [],
   "source": [
    "import numpy as np\n",
    "import pandas as pd"
   ]
  },
  {
   "cell_type": "code",
   "execution_count": 2,
   "metadata": {},
   "outputs": [],
   "source": [
    "from scipy.io import arff\n",
    "import matplotlib.pyplot as pyplot\n",
    "from sklearn.model_selection import train_test_split"
   ]
  },
  {
   "cell_type": "code",
   "execution_count": 3,
   "metadata": {},
   "outputs": [],
   "source": [
    "from sklearn.preprocessing import StandardScaler\n",
    "from sklearn.svm import SVC\n",
    "from sklearn.metrics import accuracy_score,confusion_matrix\n",
    "from sklearn.neighbors import KNeighborsClassifier\n",
    "from sklearn.naive_bayes import GaussianNB\n",
    "from sklearn.ensemble import RandomForestClassifier\n",
    "import seaborn as sns\n",
    " "
   ]
  },
  {
   "cell_type": "code",
   "execution_count": 4,
   "metadata": {},
   "outputs": [],
   "source": [
    "file = open(\"ddos_data_dataset.arff\")\n"
   ]
  },
  {
   "cell_type": "code",
   "execution_count": 5,
   "metadata": {},
   "outputs": [
    {
     "ename": "AttributeError",
     "evalue": "module 'arff' has no attribute 'ArffDecoder'",
     "output_type": "error",
     "traceback": [
      "\u001b[0;31m---------------------------------------------------------------------------\u001b[0m",
      "\u001b[0;31mAttributeError\u001b[0m                            Traceback (most recent call last)",
      "\u001b[1;32m/home/pooja/ddos/ddos.ipynb Cell 5'\u001b[0m in \u001b[0;36m<cell line: 1>\u001b[0;34m()\u001b[0m\n\u001b[0;32m----> <a href='vscode-notebook-cell:/home/pooja/ddos/ddos.ipynb#ch0000004?line=0'>1</a>\u001b[0m decoder \u001b[39m=\u001b[39m arff\u001b[39m.\u001b[39;49mArffDecoder()\n\u001b[1;32m      <a href='vscode-notebook-cell:/home/pooja/ddos/ddos.ipynb#ch0000004?line=1'>2</a>\u001b[0m data \u001b[39m=\u001b[39m decoder\u001b[39m.\u001b[39mdecode(file, encode_nominal \u001b[39m=\u001b[39m\u001b[39mTrue\u001b[39;00m)\n",
      "\u001b[0;31mAttributeError\u001b[0m: module 'arff' has no attribute 'ArffDecoder'"
     ]
    }
   ],
   "source": [
    "decoder = arff.ArffDecoder()\n",
    "data = decoder.decode(file, encode_nominal =True)"
   ]
  },
  {
   "cell_type": "code",
   "execution_count": null,
   "metadata": {},
   "outputs": [],
   "source": [
    "vals =[val[0:-1] for val in data['data']]\n",
    "labels = [lab[-1] for lab in data['data']]"
   ]
  },
  {
   "cell_type": "code",
   "execution_count": null,
   "metadata": {},
   "outputs": [],
   "source": [
    "da = set(labels)\n",
    "brac = 600\n",
    "templ = []\n",
    "tempd = []\n",
    "for i in da:\n",
    "    coun = 0\n",
    "    while coun<brac:\n",
    "        for j in range(len(labels)):\n",
    "            if labels[j]:\n",
    "                templ.append(labels[j])\n",
    "                tempd.append(vals[j])\n",
    "                coun+=1\n",
    "            if coun == brac:\n",
    "                break\n",
    "vals = tempd\n",
    "labels = templ"
   ]
  },
  {
   "cell_type": "code",
   "execution_count": null,
   "metadata": {},
   "outputs": [],
   "source": [
    "l = len(vals)\n",
    "print(l)"
   ]
  },
  {
   "cell_type": "code",
   "execution_count": null,
   "metadata": {},
   "outputs": [],
   "source": [
    "X_train,X_test,Y_train,Y_test = train_test_split(vals,labels, stratify =labels, test_size =0.2, random_state=0)"
   ]
  },
  {
   "cell_type": "code",
   "execution_count": null,
   "metadata": {},
   "outputs": [],
   "source": [
    "scaler = StandardScaler()\n",
    "x_train = scaler.fit_transform(X_train)\n",
    "x_test = scaler.transform(X_test)\n",
    "y_train = np.array(Y_train)\n",
    "y_test = np.array(Y_test)\n"
   ]
  },
  {
   "cell_type": "code",
   "execution_count": null,
   "metadata": {},
   "outputs": [],
   "source": [
    "model = SVC(kernel= 'sigmoid', gamma='auto')\n",
    "model.fit(x_train, y_train )\n"
   ]
  },
  {
   "cell_type": "code",
   "execution_count": null,
   "metadata": {},
   "outputs": [],
   "source": [
    "y_pred = model.predict(x_test)"
   ]
  },
  {
   "cell_type": "code",
   "execution_count": null,
   "metadata": {},
   "outputs": [],
   "source": [
    "print((accuracy_score(y_pred,y_test))*100, \"%\")"
   ]
  },
  {
   "cell_type": "code",
   "execution_count": null,
   "metadata": {},
   "outputs": [],
   "source": [
    "model1 = KNeighborsClassifier(n_neighbors=5)\n",
    "model1.fit(x_train, y_train)"
   ]
  },
  {
   "cell_type": "code",
   "execution_count": null,
   "metadata": {},
   "outputs": [],
   "source": [
    "y_pred = model1.predict(x_test)"
   ]
  },
  {
   "cell_type": "code",
   "execution_count": null,
   "metadata": {},
   "outputs": [],
   "source": [
    "print((accuracy_score(y_pred,y_test))*100, \"%\")"
   ]
  },
  {
   "cell_type": "code",
   "execution_count": null,
   "metadata": {},
   "outputs": [],
   "source": [
    "model2  = GaussianNB()\n",
    "model2.fit(x_train,y_train)"
   ]
  },
  {
   "cell_type": "code",
   "execution_count": null,
   "metadata": {},
   "outputs": [],
   "source": [
    "y_pred = model.predict(x_test)"
   ]
  },
  {
   "cell_type": "code",
   "execution_count": null,
   "metadata": {},
   "outputs": [],
   "source": [
    "print((accuracy_score(y_pred,y_test))*100, \"%\")"
   ]
  },
  {
   "cell_type": "code",
   "execution_count": null,
   "metadata": {},
   "outputs": [],
   "source": [
    "train_x,val_x, train_y,val_y = train_test_split(x_train,y_train,startify= y_train,test_size=0.2, random_state =0)"
   ]
  },
  {
   "cell_type": "code",
   "execution_count": null,
   "metadata": {},
   "outputs": [],
   "source": [
    "print(x_train.shape, x_test.shape)"
   ]
  },
  {
   "cell_type": "code",
   "execution_count": null,
   "metadata": {},
   "outputs": [],
   "source": [
    "columns = ['SRC_ADD','DES_ADD', 'PKT_ID','FROM_NODE','TO_NODE','PKT_TYPE','PKT_SIZE','FLAGS','FID','SEQ_NUMBER','NUMBER_OF_PKT','NUMBER_OF_BYTE','NODE_NAME_FROM','NODE_NAME_TO','PKT_IN','PKT_OUT','PKT_R','PKT_DELAY_NODE','PKT_RATE','BYTE_RATE','PKT_AVG_SIZE','UTILIZATION ','PKT_DELAY','PKT_SEND_TIME','PKT_RESEVED_TIME','FIRST_PKT_SENT','LAST_PKT_RESEVED','PKT_CLASS']"
   ]
  },
  {
   "cell_type": "code",
   "execution_count": null,
   "metadata": {},
   "outputs": [],
   "source": [
    "model1 = SVC(kernel='sigmoid', gamma='auto')\n",
    "model1.fit(train_x,train_y)\n",
    "y_val_pred1= model1.predict(val_x)\n",
    "y_val_pred1 = pd.DataFrame(y_val_pred1)\n",
    "y_test_pred1 = model1.predict(x_test)\n",
    "y_test_pred1 = pd.DataFrame(y_test_pred1)\n"
   ]
  },
  {
   "cell_type": "code",
   "execution_count": null,
   "metadata": {},
   "outputs": [],
   "source": [
    "model2 = KNeighborsClassifier(n_neighbors =5)\n",
    "model2.fit(train_x,train_y)\n",
    "y_val_pred2= model2.predict(val_x)\n",
    "y_val_pred2 = pd.DataFrame(y_val_pred2)\n",
    "y_test_pred2 = model2.predict(x_test)\n",
    "y_test_pred2 = pd.DataFrame(y_test_pred2)"
   ]
  },
  {
   "cell_type": "code",
   "execution_count": null,
   "metadata": {},
   "outputs": [],
   "source": [
    "model3 = GaussianNB()\n",
    "model1.fit(train_x,train_y)\n",
    "y_val_pred3= model3.predict(val_x)\n",
    "y_val_pred3 = pd.DataFrame(y_val_pred3)\n",
    "y_test_pred3 = model3.predict(x_test)\n",
    "y_test_pred3 = pd.DataFrame(y_test_pred3)"
   ]
  },
  {
   "cell_type": "code",
   "execution_count": null,
   "metadata": {},
   "outputs": [],
   "source": [
    "val_input = pd.concat([pd.DataFrame(val_x,columns= columns), y_val_pred1, y_val_pred2, y_val_pred3], axis =1)\n",
    "test_input = pd.concat([pd.DataFrame(x_test,columsn=columns), y_test_pred1, y_test_pred2, y_test_pred3], axis =1)\n"
   ]
  },
  {
   "cell_type": "code",
   "execution_count": null,
   "metadata": {},
   "outputs": [],
   "source": [
    "model= RandomForestClassifier(n_estimators=200)\n",
    "model.fit(val_input, val_y)\n"
   ]
  },
  {
   "cell_type": "code",
   "execution_count": null,
   "metadata": {},
   "outputs": [],
   "source": [
    "print((model.score(test_input,y_test)) *100, \"%\")"
   ]
  }
 ],
 "metadata": {
  "kernelspec": {
   "display_name": "Python 3.10.4 64-bit",
   "language": "python",
   "name": "python3"
  },
  "language_info": {
   "codemirror_mode": {
    "name": "ipython",
    "version": 3
   },
   "file_extension": ".py",
   "mimetype": "text/x-python",
   "name": "python",
   "nbconvert_exporter": "python",
   "pygments_lexer": "ipython3",
   "version": "3.10.4"
  },
  "orig_nbformat": 4,
  "vscode": {
   "interpreter": {
    "hash": "31f2aee4e71d21fbe5cf8b01ff0e069b9275f58929596ceb00d14d90e3e16cd6"
   }
  }
 },
 "nbformat": 4,
 "nbformat_minor": 2
}
